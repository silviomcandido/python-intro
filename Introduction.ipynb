{
  "cells": [
    {
      "cell_type": "markdown",
      "source": [
        "# Introduction to Python: A Gentle Introduction for Engineers\n",
        "\n",
        "Python is a high-level, interpreted programming language that has become increasingly popular in the engineering and data science fields. Its simplicity and readability make it a great language for beginners, while its powerful libraries and frameworks make it a serious tool for professionals.\n",
        "\n",
        "This tutorial will provide a gentle introduction to Python programming for engineers. We will cover the basics of Python, including data types, control structures, functions, and libraries commonly used in engineering applications."
      ],
      "metadata": {
        "jupyter": {
          "outputs_hidden": false,
          "source_hidden": false
        },
        "noteable": {
          "cell_type": "markdown"
        }
      },
      "id": "ed8e3eeb-365d-4ed1-8775-c9666623e93a"
    },
    {
      "cell_type": "markdown",
      "source": [
        "## Python Basics\n",
        "\n",
        "Let's start with the basics. In this section, we will cover:\n",
        "\n",
        "- Variables and Data Types\n",
        "- Basic Operators\n",
        "- Control Structures"
      ],
      "metadata": {
        "jupyter": {
          "outputs_hidden": false,
          "source_hidden": false
        },
        "noteable": {
          "cell_type": "markdown"
        }
      },
      "id": "a347dfa1-330e-47a3-9abb-5d5a38a13eec"
    },
    {
      "cell_type": "markdown",
      "source": [
        "### Variables and Data Types\n",
        "\n",
        "In Python, variables do not need explicit declaration to reserve memory space. The declaration happens automatically when you assign a value to a variable. The equal sign (=) is used to assign values to variables."
      ],
      "metadata": {
        "jupyter": {
          "outputs_hidden": false,
          "source_hidden": false
        },
        "noteable": {
          "cell_type": "markdown"
        }
      },
      "id": "bb694d9c-9337-4934-af94-42ee2c6c1634"
    },
    {
      "cell_type": "code",
      "source": [
        "# Variable assignment\n",
        "x = 10\n",
        "y = 20.5\n",
        "z = 'Hello'\n",
        "\n",
        "# Print variable values\n",
        "print(x)\n",
        "print(y)\n",
        "print(z)"
      ],
      "outputs": [
        {
          "output_type": "stream",
          "name": "stdout",
          "text": [
            "10\n",
            "20.5\n",
            "Hello\n"
          ]
        }
      ],
      "execution_count": 1,
      "metadata": {
        "ExecuteTime": {
          "end_time": "2023-05-30T11:10:19.178987+00:00",
          "start_time": "2023-05-30T11:10:19.020729+00:00"
        },
        "jupyter": {
          "outputs_hidden": false,
          "source_hidden": false
        },
        "noteable": {
          "cell_type": "code"
        }
      },
      "id": "0676b3b7-2c9a-4bf5-a722-46eb4462cc0b"
    },
    {
      "cell_type": "markdown",
      "source": [
        "As you can see, we assigned an integer value to `x`, a float value to `y`, and a string value to `z`. Python automatically inferred the type of the variable from the value we assigned to it. You can check the type of a variable using the `type()` function."
      ],
      "metadata": {
        "jupyter": {
          "outputs_hidden": false,
          "source_hidden": false
        },
        "noteable": {
          "cell_type": "markdown"
        }
      },
      "id": "d33c09c6-5e79-44d1-84fe-308d7cbe367f"
    },
    {
      "cell_type": "code",
      "source": [
        "# Check variable types\n",
        "print(type(x))\n",
        "print(type(y))\n",
        "print(type(z))"
      ],
      "outputs": [
        {
          "output_type": "stream",
          "name": "stdout",
          "text": [
            "<class 'int'>\n",
            "<class 'float'>\n",
            "<class 'str'>\n"
          ]
        }
      ],
      "execution_count": 2,
      "metadata": {
        "ExecuteTime": {
          "end_time": "2023-05-30T11:10:50.206888+00:00",
          "start_time": "2023-05-30T11:10:50.050451+00:00"
        },
        "jupyter": {
          "outputs_hidden": false,
          "source_hidden": false
        },
        "noteable": {
          "cell_type": "code"
        }
      },
      "id": "04833afe-c8ba-4148-a842-ac5ac591a1df"
    },
    {
      "cell_type": "markdown",
      "source": [
        "### Basic Operators\n",
        "\n",
        "Python provides a variety of operators, which are symbols that you use to perform operations on values and variables. Here are some basic operators:\n",
        "\n",
        "- Arithmetic Operators: `+`, `-`, `*`, `/`, `//`, `%`, `**`\n",
        "- Comparison Operators: `==`, `!=`, `<`, `>`, `<=`, `>=`\n",
        "- Logical Operators: `and`, `or`, `not`"
      ],
      "metadata": {
        "jupyter": {
          "outputs_hidden": false,
          "source_hidden": false
        },
        "noteable": {
          "cell_type": "markdown"
        }
      },
      "id": "e24cc0c6-bd9c-4b6d-9fde-e5878e409c8a"
    },
    {
      "cell_type": "code",
      "source": [
        "# Arithmetic operators\n",
        "print('Addition:', x + y)\n",
        "print('Subtraction:', x - y)\n",
        "print('Multiplication:', x * y)\n",
        "print('Division:', x / y)\n",
        "print('Floor division:', x // y)\n",
        "print('Modulus:', x % y)\n",
        "print('Exponent:', x ** 2)\n",
        "\n",
        "# Comparison operators\n",
        "print('Equal:', x == y)\n",
        "print('Not equal:', x != y)\n",
        "print('Less than:', x < y)\n",
        "print('Greater than:', x > y)\n",
        "print('Less than or equal to:', x <= y)\n",
        "print('Greater than or equal to:', x >= y)\n",
        "\n",
        "# Logical operators\n",
        "print('and:', x < y and x > 0)\n",
        "print('or:', x < y or x > 0)\n",
        "print('not:', not x < y)"
      ],
      "outputs": [
        {
          "output_type": "stream",
          "name": "stdout",
          "text": [
            "Addition: 30.5\n",
            "Subtraction: -10.5\n",
            "Multiplication: 205.0\n",
            "Division: 0.4878048780487805\n",
            "Floor division: 0.0\n",
            "Modulus: 10.0\n",
            "Exponent: 100\n",
            "Equal: False\n",
            "Not equal: True\n",
            "Less than: True\n",
            "Greater than: False\n",
            "Less than or equal to: True\n",
            "Greater than or equal to: False\n",
            "and: True\n",
            "or: True\n",
            "not: False\n"
          ]
        }
      ],
      "execution_count": 3,
      "metadata": {
        "ExecuteTime": {
          "end_time": "2023-05-30T11:11:50.144060+00:00",
          "start_time": "2023-05-30T11:11:49.982659+00:00"
        },
        "jupyter": {
          "outputs_hidden": false,
          "source_hidden": false
        },
        "noteable": {
          "cell_type": "code"
        }
      },
      "id": "c36c9102-615d-45d5-9696-cb5d6213e2f9"
    },
    {
      "cell_type": "markdown",
      "source": [
        "### Control Structures\n",
        "\n",
        "Control structures allow you to control the flow of your program's execution based on certain conditions or loops. Here are some basic control structures:\n",
        "\n",
        "- Conditional Statements: `if`, `elif`, `else`\n",
        "- Loops: `for`, `while`"
      ],
      "metadata": {
        "jupyter": {
          "outputs_hidden": false,
          "source_hidden": false
        },
        "noteable": {
          "cell_type": "markdown"
        }
      },
      "id": "54255a42-4cc8-4f5b-9a4a-9a0fb6c2d6a9"
    },
    {
      "cell_type": "code",
      "source": [
        "# Conditional statements\n",
        "if x > y:\n",
        "    print('x is greater than y')\n",
        "elif x < y:\n",
        "    print('x is less than y')\n",
        "else:\n",
        "    print('x is equal to y')\n",
        "\n",
        "# For loop\n",
        "for i in range(5):\n",
        "    print(i)\n",
        "\n",
        "# While loop\n",
        "i = 0\n",
        "while i < 5:\n",
        "    print(i)\n",
        "    i += 1"
      ],
      "outputs": [
        {
          "output_type": "stream",
          "name": "stdout",
          "text": [
            "x is less than y\n",
            "0\n",
            "1\n",
            "2\n",
            "3\n",
            "4\n",
            "0\n",
            "1\n",
            "2\n",
            "3\n",
            "4\n"
          ]
        }
      ],
      "execution_count": 4,
      "metadata": {
        "ExecuteTime": {
          "end_time": "2023-05-30T11:12:33.242384+00:00",
          "start_time": "2023-05-30T11:12:33.084538+00:00"
        },
        "jupyter": {
          "outputs_hidden": false,
          "source_hidden": false
        },
        "noteable": {
          "cell_type": "code"
        }
      },
      "id": "b660c7f0-22cb-4d1c-85a6-378c22a942c6"
    },
    {
      "cell_type": "markdown",
      "source": [
        "## Python Libraries for Engineers\n",
        "\n",
        "Python has a wide range of libraries that are useful for engineers. Here are a few examples:\n",
        "\n",
        "- NumPy: A library for numerical computations and handling arrays.\n",
        "- SciPy: A library for scientific computations.\n",
        "- Matplotlib: A library for creating static, animated, and interactive visualizations.\n",
        "- Pandas: A library for data manipulation and analysis.\n",
        "\n",
        "Let's import these libraries and see how to use them."
      ],
      "metadata": {
        "jupyter": {
          "outputs_hidden": false,
          "source_hidden": false
        },
        "noteable": {
          "cell_type": "markdown"
        }
      },
      "id": "7a6adbba-8101-40ad-a6fe-ac52b2662ba0"
    },
    {
      "cell_type": "code",
      "source": [
        "# Import libraries\n",
        "import numpy as np\n",
        "import scipy\n",
        "import matplotlib.pyplot as plt\n",
        "import pandas as pd"
      ],
      "outputs": [],
      "execution_count": 5,
      "metadata": {
        "ExecuteTime": {
          "end_time": "2023-05-30T11:13:13.322742+00:00",
          "start_time": "2023-05-30T11:13:11.584204+00:00"
        },
        "jupyter": {
          "outputs_hidden": false,
          "source_hidden": false
        },
        "noteable": {
          "cell_type": "code"
        }
      },
      "id": "57ebe65b-c5bc-407e-8be2-9af904ee7fbe"
    },
    {
      "cell_type": "markdown",
      "source": [
        "Now that we have imported the libraries, let's use them. For example, we can use NumPy to create an array and perform operations on it."
      ],
      "metadata": {
        "jupyter": {
          "outputs_hidden": false,
          "source_hidden": false
        },
        "noteable": {
          "cell_type": "markdown"
        }
      },
      "id": "a0406418-b736-46c0-93b9-789a1bb1c3d0"
    },
    {
      "cell_type": "code",
      "source": [
        "# Create a numpy array\n",
        "arr = np.array([1, 2, 3, 4, 5])\n",
        "\n",
        "# Perform operations\n",
        "print('Array:', arr)\n",
        "print('Add 5:', arr + 5)\n",
        "print('Multiply 2:', arr * 2)\n",
        "print('Square:', arr ** 2)\n",
        "print('Sum:', np.sum(arr))"
      ],
      "outputs": [
        {
          "output_type": "stream",
          "name": "stdout",
          "text": [
            "Array: [1 2 3 4 5]\n",
            "Add 5: [ 6  7  8  9 10]\n",
            "Multiply 2: [ 2  4  6  8 10]\n",
            "Square: [ 1  4  9 16 25]\n",
            "Sum: 15\n"
          ]
        }
      ],
      "execution_count": 6,
      "metadata": {
        "jupyter": {
          "outputs_hidden": false,
          "source_hidden": false
        },
        "noteable": {
          "cell_type": "code"
        }
      },
      "id": "35aee5fa-6754-4da7-8338-9b743f91d73d"
    },
    {
      "cell_type": "markdown",
      "source": [
        "## Solving Linear Equations (Ax = b)\n",
        "\n",
        "In engineering and science, we often encounter systems of linear equations, which can be represented in matrix form as Ax = b, where A is a matrix, and x and b are vectors. Python's NumPy library provides functions to solve such systems.\n",
        "\n",
        "Let's consider a simple system of linear equations:\n",
        "\n",
        "```\n",
        "3x + 2y - z = 1\n",
        "2x + 2y + 4z = -2\n",
        "-x + 0.5y - z = 0\n",
        "```\n",
        "\n",
        "This can be represented in matrix form as follows:\n",
        "\n",
        "```\n",
        "A = [[3, 2, -1], [2, 2, 4], [-1, 0.5, -1]]\n",
        "x = [x, y, z]\n",
        "b = [1, -2, 0]\n",
        "```\n",
        "\n",
        "We can solve for x using NumPy's `linalg.solve` function."
      ],
      "metadata": {
        "jupyter": {
          "outputs_hidden": false,
          "source_hidden": false
        },
        "noteable": {
          "cell_type": "markdown"
        }
      },
      "id": "720844ed-b209-485b-bfb9-b44ed42cc3c1"
    },
    {
      "cell_type": "code",
      "source": [
        "# Define the matrix A and vector b\n",
        "A = np.array([[3, 2, -1], [2, 2, 4], [-1, 0.5, -1]])\n",
        "b = np.array([1, -2, 0])\n",
        "\n",
        "# Solve for x\n",
        "x = np.linalg.solve(A, b)\n",
        "x"
      ],
      "outputs": [
        {
          "output_type": "execute_result",
          "execution_count": null,
          "data": {
            "text/plain": "array([ 0.36842105, -0.31578947, -0.52631579])"
          },
          "metadata": {}
        }
      ],
      "execution_count": 7,
      "metadata": {
        "ExecuteTime": {
          "end_time": "2023-05-30T12:21:06.712625+00:00",
          "start_time": "2023-05-30T12:21:06.551833+00:00"
        },
        "jupyter": {
          "outputs_hidden": false,
          "source_hidden": false
        },
        "noteable": {
          "cell_type": "code"
        }
      },
      "id": "03eb3f51-5e3a-4152-a3fb-ed333946dbd1"
    },
    {
      "cell_type": "markdown",
      "source": [
        "The solution to the system of equations is x = 0.36842105, y = -0.31578947, z = -0.52631579.\n",
        "\n",
        "## Linear Regression\n",
        "\n",
        "Linear regression is a statistical method that allows us to study the relationship between two continuous variables. The goal of linear regression is to model the relationship between the dependent variable and one or more independent variables.\n",
        "\n",
        "We can use the `numpy.polyfit` function to perform linear regression. This function fits a polynomial of a specified degree to a set of data using the method of least squares, and returns the coefficients of the polynomial.\n",
        "\n",
        "Let's generate some data and perform linear regression."
      ],
      "metadata": {
        "jupyter": {
          "outputs_hidden": false,
          "source_hidden": false
        },
        "noteable": {
          "cell_type": "markdown"
        }
      },
      "id": "be7bca9c-6a34-4d15-ace3-dbed5984d58d"
    },
    {
      "cell_type": "code",
      "source": [
        "# Generate some data\n",
        "np.random.seed(0)\n",
        "x = np.random.rand(100, 1)\n",
        "y = 2 + 3 * x + np.random.rand(100, 1)\n",
        "\n",
        "# Perform linear regression\n",
        "coefficients = np.polyfit(x.flatten(), y.flatten(), 1)\n",
        "coefficients"
      ],
      "outputs": [
        {
          "output_type": "execute_result",
          "execution_count": null,
          "data": {
            "text/plain": "array([2.93655106, 2.55808002])"
          },
          "metadata": {}
        }
      ],
      "execution_count": 8,
      "metadata": {
        "jupyter": {
          "outputs_hidden": false,
          "source_hidden": false
        },
        "noteable": {
          "cell_type": "code"
        }
      },
      "id": "70a0612a-bda5-42a4-81db-f492fd070935"
    },
    {
      "cell_type": "code",
      "source": [
        "# Generate some data\n",
        "np.random.seed(0)\n",
        "x = np.random.rand(100, 1)\n",
        "y = 2 + 3 * x + np.random.rand(100, 1)\n",
        "\n",
        "# Perform linear regression\n",
        "coefficients = np.polyfit(x.flatten(), y.flatten(), 1)\n",
        "coefficients"
      ],
      "outputs": [
        {
          "output_type": "execute_result",
          "execution_count": null,
          "data": {
            "text/plain": "array([2.93655106, 2.55808002])"
          },
          "metadata": {}
        }
      ],
      "execution_count": 9,
      "metadata": {
        "jupyter": {
          "outputs_hidden": false,
          "source_hidden": false
        },
        "noteable": {
          "cell_type": "code"
        }
      },
      "id": "d3971660-6c08-4078-8efc-40725ad687f5"
    },
    {
      "cell_type": "code",
      "source": [
        "# Generate some data\n",
        "np.random.seed(0)\n",
        "x = np.random.rand(100, 1)\n",
        "y = 2 + 3 * x + np.random.rand(100, 1)\n",
        "\n",
        "# Perform linear regression\n",
        "coefficients = np.polyfit(x.flatten(), y.flatten(), 1)\n",
        "coefficients"
      ],
      "outputs": [
        {
          "output_type": "execute_result",
          "execution_count": null,
          "data": {
            "text/plain": "array([2.93655106, 2.55808002])"
          },
          "metadata": {}
        }
      ],
      "execution_count": 10,
      "metadata": {
        "ExecuteTime": {
          "end_time": "2023-05-30T12:22:45.293382+00:00",
          "start_time": "2023-05-30T12:22:45.132879+00:00"
        },
        "jupyter": {
          "outputs_hidden": false,
          "source_hidden": false
        },
        "noteable": {
          "cell_type": "code"
        }
      },
      "id": "32956ac9-8f5d-471c-a229-e2be883c5424"
    },
    {
      "cell_type": "markdown",
      "source": [
        "The coefficients of the linear regression model are approximately 2.94 for the slope and 2.56 for the intercept. This means that our fitted model is:\n",
        "\n",
        "y = 2.94x + 2.56\n",
        "\n",
        "We can plot the data along with the fitted line to visualize the result of the linear regression."
      ],
      "metadata": {
        "jupyter": {
          "outputs_hidden": false,
          "source_hidden": false
        },
        "noteable": {
          "cell_type": "markdown"
        }
      },
      "id": "62be93a2-d153-4937-9593-8defce5c3e57"
    },
    {
      "cell_type": "code",
      "source": [
        "# Plot the data\n",
        "plt.scatter(x, y, color = 'blue', label='Data')\n",
        "\n",
        "# Plot the fitted line\n",
        "plt.plot(x, coefficients[0]*x + coefficients[1], color='red', label='Fitted line')\n",
        "\n",
        "plt.xlabel('x')\n",
        "plt.ylabel('y')\n",
        "plt.legend()\n",
        "plt.show()"
      ],
      "outputs": [
        {
          "output_type": "display_data",
          "data": {
            "image/png": "[encoded data removed]"
          },
          "metadata": {}
        }
      ],
      "execution_count": 11,
      "metadata": {
        "ExecuteTime": {
          "end_time": "2023-05-30T12:23:28.555807+00:00",
          "start_time": "2023-05-30T12:23:28.372893+00:00"
        },
        "jupyter": {
          "outputs_hidden": false,
          "source_hidden": false
        },
        "noteable": {
          "cell_type": "code"
        }
      },
      "id": "65ab73d3-8da2-41e1-aa8f-9772c14ba832"
    },
    {
      "cell_type": "markdown",
      "source": [
        "## Functions and Lambda Functions\n",
        "\n",
        "Functions are a way of encapsulating a piece of code so that it can be used repeatedly. In Python, we define a function using the `def` keyword. Here is an example of a function that calculates the area of a circle given its radius."
      ],
      "metadata": {
        "jupyter": {
          "outputs_hidden": false,
          "source_hidden": false
        },
        "noteable": {
          "cell_type": "markdown"
        }
      },
      "id": "ec38287d-98e5-463f-9d0a-8d431b3a716d"
    },
    {
      "cell_type": "code",
      "source": [
        "def area_of_circle(radius):\n",
        "    return np.pi * radius ** 2\n",
        "\n",
        "print(area_of_circle(5))"
      ],
      "outputs": [
        {
          "output_type": "stream",
          "name": "stdout",
          "text": [
            "78.53981633974483\n"
          ]
        }
      ],
      "execution_count": 12,
      "metadata": {
        "ExecuteTime": {
          "end_time": "2023-05-30T12:27:50.784925+00:00",
          "start_time": "2023-05-30T12:27:50.628391+00:00"
        },
        "jupyter": {
          "outputs_hidden": false,
          "source_hidden": false
        },
        "noteable": {
          "cell_type": "code"
        }
      },
      "id": "0b141765-d7a7-45f4-b536-7794a6caa80f"
    },
    {
      "cell_type": "markdown",
      "source": [
        "Python also supports the creation of anonymous functions (i.e., functions that are not bound to a name), using the `lambda` keyword. These are known as lambda functions. Here is an example of a lambda function that calculates the area of a circle."
      ],
      "metadata": {
        "jupyter": {
          "outputs_hidden": false,
          "source_hidden": false
        },
        "noteable": {
          "cell_type": "markdown"
        }
      },
      "id": "cb421592-8ac8-4d05-b292-9ae8d57a1104"
    },
    {
      "cell_type": "code",
      "source": [
        "area_of_circle_lambda = lambda radius: np.pi * radius ** 2\n",
        "\n",
        "print(area_of_circle_lambda(5))"
      ],
      "outputs": [
        {
          "output_type": "stream",
          "name": "stdout",
          "text": [
            "78.53981633974483\n"
          ]
        }
      ],
      "execution_count": 13,
      "metadata": {
        "ExecuteTime": {
          "end_time": "2023-05-30T12:28:28.317239+00:00",
          "start_time": "2023-05-30T12:28:28.159451+00:00"
        },
        "jupyter": {
          "outputs_hidden": false,
          "source_hidden": false
        },
        "noteable": {
          "cell_type": "code"
        }
      },
      "id": "d238e32a-64b1-490f-bbb4-9899b3110839"
    },
    {
      "cell_type": "markdown",
      "source": [
        "## File Input/Output\n",
        "\n",
        "Python can interact with the file system to read from and write to files. This is particularly useful for engineers who need to work with data stored in files. Here is an example of how to write to a file and read from it."
      ],
      "metadata": {
        "jupyter": {
          "outputs_hidden": false,
          "source_hidden": false
        },
        "noteable": {
          "cell_type": "markdown"
        }
      },
      "id": "18a9c022-8339-4d39-abfc-d3739c176f91"
    },
    {
      "cell_type": "code",
      "source": [
        "# Write to a file\n",
        "with open('example.txt', 'w') as f:\n",
        "    f.write('Hello, world!')\n",
        "\n",
        "# Read from a file\n",
        "with open('example.txt', 'r') as f:\n",
        "    print(f.read())"
      ],
      "outputs": [
        {
          "output_type": "stream",
          "name": "stdout",
          "text": [
            "Hello, world!\n"
          ]
        }
      ],
      "execution_count": 14,
      "metadata": {
        "ExecuteTime": {
          "end_time": "2023-05-30T12:29:08.560343+00:00",
          "start_time": "2023-05-30T12:29:08.401936+00:00"
        },
        "jupyter": {
          "outputs_hidden": false,
          "source_hidden": false
        },
        "noteable": {
          "cell_type": "code"
        }
      },
      "id": "98a964d0-f0c1-41e0-8308-8be7587f0702"
    },
    {
      "cell_type": "markdown",
      "source": [
        "## Plotting with Matplotlib\n",
        "\n",
        "Matplotlib is a plotting library for Python. It is used for creating static, animated, and interactive visualizations in Python. Here is an example of how to create a simple line plot using Matplotlib."
      ],
      "metadata": {
        "jupyter": {
          "outputs_hidden": false,
          "source_hidden": false
        },
        "noteable": {
          "cell_type": "markdown"
        }
      },
      "id": "896ce53e-4fd8-45bc-ab34-b07375d9b054"
    },
    {
      "cell_type": "code",
      "source": [
        "import matplotlib.pyplot as plt\n",
        "\n",
        "x = np.linspace(0, 10, 100)\n",
        "y = np.sin(x)\n",
        "\n",
        "plt.plot(x, y)\n",
        "plt.xlabel('x')\n",
        "plt.ylabel('y')\n",
        "plt.title('y = sin(x)')\n",
        "plt.show()"
      ],
      "outputs": [
        {
          "output_type": "display_data",
          "data": {
            "image/png": "[encoded data removed]"
          },
          "metadata": {}
        }
      ],
      "execution_count": 15,
      "metadata": {
        "ExecuteTime": {
          "end_time": "2023-05-30T12:29:52.201253+00:00",
          "start_time": "2023-05-30T12:29:50.185898+00:00"
        },
        "jupyter": {
          "outputs_hidden": false,
          "source_hidden": false
        },
        "noteable": {
          "cell_type": "code"
        }
      },
      "id": "b496156b-3fb4-4faf-b81c-0454443f45fb"
    },
    {
      "cell_type": "markdown",
      "source": [
        "## Data Analysis with Pandas\n",
        "\n",
        "Pandas is a powerful data analysis and manipulation library for Python. It provides data structures and functions needed to manipulate structured data, including functions for reading and writing data in a variety of formats.\n",
        "\n",
        "Let's start by creating a simple DataFrame, which is a two-dimensional labeled data structure in Pandas."
      ],
      "metadata": {
        "jupyter": {
          "outputs_hidden": false,
          "source_hidden": false
        },
        "noteable": {
          "cell_type": "markdown"
        }
      },
      "id": "c9373f68-ac80-4fd9-b90d-124bd6e967b6"
    },
    {
      "cell_type": "code",
      "source": [
        "import pandas as pd\n",
        "\n",
        "# Create a DataFrame\n",
        "data = {\n",
        "    'Name': ['John', 'Anna', 'Peter', 'Linda'],\n",
        "    'Age': [28, 24, 35, 32],\n",
        "    'City': ['New York', 'Paris', 'Berlin', 'London']\n",
        "}\n",
        "\n",
        "df = pd.DataFrame(data)\n",
        "\n",
        "df"
      ],
      "outputs": [],
      "execution_count": null,
      "metadata": {
        "jupyter": {
          "source_hidden": false,
          "outputs_hidden": false
        },
        "noteable": {
          "cell_type": "code"
        }
      },
      "id": "24cac0fe-192b-4aed-afe0-141c4ce94c5d"
    },
    {
      "cell_type": "markdown",
      "source": [
        "Pandas provides a variety of functions to analyze data. For example, you can use the `describe` function to get a summary of the numerical data in your DataFrame."
      ],
      "metadata": {
        "jupyter": {
          "source_hidden": false,
          "outputs_hidden": false
        },
        "noteable": {
          "cell_type": "markdown"
        }
      },
      "id": "9678ee2d-27e9-4645-a6db-6c120a62724a"
    },
    {
      "cell_type": "code",
      "source": [
        "df.describe()"
      ],
      "outputs": [],
      "execution_count": null,
      "metadata": {
        "jupyter": {
          "source_hidden": false,
          "outputs_hidden": false
        },
        "noteable": {
          "cell_type": "code"
        }
      },
      "id": "28fc5c24-b5ff-423b-9c2d-e6ed8d97bceb"
    },
    {
      "cell_type": "markdown",
      "source": [
        "You can also select data based on conditions. For example, you can select all rows where 'Age' is greater than 30."
      ],
      "metadata": {
        "jupyter": {
          "source_hidden": false,
          "outputs_hidden": false
        },
        "noteable": {
          "cell_type": "markdown"
        }
      },
      "id": "87531d63-bd54-4499-b8dc-d306965bf96e"
    },
    {
      "cell_type": "code",
      "source": [
        "df[df['Age'] > 30]"
      ],
      "outputs": [],
      "execution_count": null,
      "metadata": {
        "jupyter": {
          "source_hidden": false,
          "outputs_hidden": false
        },
        "noteable": {
          "cell_type": "code"
        }
      },
      "id": "d0f1b93d-1743-4f26-ad9c-2d397e1d2783"
    },
    {
      "cell_type": "markdown",
      "source": [
        "Pandas also supports operations like groupby, merge, and pivot, which are essential for data analysis. You can explore more about these operations in the [Pandas documentation](https://pandas.pydata.org/docs/).\n",
        "\n",
        "This is just a brief introduction to data analysis with Pandas. There's a lot more you can do with this powerful library!"
      ],
      "metadata": {
        "jupyter": {
          "source_hidden": false,
          "outputs_hidden": false
        },
        "noteable": {
          "cell_type": "markdown"
        }
      },
      "id": "c746da4e-cbab-4aab-8f9a-3b396cb7e0ff"
    },
    {
      "cell_type": "markdown",
      "source": [
        "## Conclusion\n",
        "\n",
        "In this notebook, we've introduced some of the basics of Python programming, with a particular focus on applications in engineering. We've covered variables, data types, control structures, functions, and file I/O. We've also introduced some of the libraries that are commonly used in scientific computing, including NumPy, SciPy, Matplotlib, and Pandas.\n",
        "\n",
        "This is just the beginning of what you can do with Python. The language is incredibly versatile, and there are many more libraries and tools available that can help you with your specific needs, whether that's data analysis, machine learning, web development, or something else entirely.\n",
        "\n",
        "If you're interested in learning more about Python, here are a few resources that you might find helpful:\n",
        "\n",
        "- [Python Documentation](https://docs.python.org/3/): The official Python documentation is a comprehensive resource that covers all aspects of the language.\n",
        "- [NumPy Documentation](https://numpy.org/doc/): The official NumPy documentation is a great resource for learning more about numerical computation in Python.\n",
        "- [Pandas Documentation](https://pandas.pydata.org/docs/): The official Pandas documentation covers everything you need to know about data manipulation in Python.\n",
        "- [Matplotlib Documentation](https://matplotlib.org/): The official Matplotlib documentation is a great resource for learning more about data visualization in Python.\n",
        "- [Python for Data Analysis](https://www.oreilly.com/library/view/python-for-data/9781491957653/): This book by Wes McKinney, the creator of Pandas, is a great resource for learning more about data analysis in Python.\n",
        "\n",
        "Happy coding!"
      ],
      "metadata": {
        "jupyter": {
          "source_hidden": false,
          "outputs_hidden": false
        },
        "noteable": {
          "cell_type": "markdown"
        }
      },
      "id": "d125ddb8-4fcf-41b1-a713-8f8ebcca7494"
    }
  ],
  "metadata": {
    "kernelspec": {
      "display_name": "Python 3",
      "language": "python",
      "name": "python3"
    },
    "language_info": {
      "codemirror_mode": {
        "name": "ipython",
        "version": 3
      },
      "file_extension": ".py",
      "mimetype": "text/x-python",
      "name": "python",
      "nbconvert_exporter": "python",
      "pygments_lexer": "ipython3",
      "version": "3.9.7"
    },
    "noteable": {
      "last_delta_id": "848b77b3-c04c-4ead-b533-6c780d3c60b6",
      "last_transaction_id": "2b537173-8c6a-4054-a83e-364b8d9e6ce2"
    },
    "nteract": {
      "version": "noteable@2.9.0"
    },
    "selected_hardware_size": "small"
  },
  "nbformat": 4,
  "nbformat_minor": 5
}